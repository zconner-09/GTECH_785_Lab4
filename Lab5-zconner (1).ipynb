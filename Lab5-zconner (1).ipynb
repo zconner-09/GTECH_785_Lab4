{
 "cells": [
  {
   "cell_type": "markdown",
   "metadata": {},
   "source": [
    "## Lab 5\n",
    "\n",
    "- __Author:__ Zachary Conner\n",
    "- __Date:__ 3/1/2019"
   ]
  },
  {
   "cell_type": "markdown",
   "metadata": {},
   "source": [
    "## Import Python Packages"
   ]
  },
  {
   "cell_type": "code",
   "execution_count": 1,
   "metadata": {},
   "outputs": [
    {
     "name": "stdout",
     "output_type": "stream",
     "text": [
      "Import of packages successful\n"
     ]
    }
   ],
   "source": [
    "# import the necessary python packages\n",
    "import os\n",
    "import numpy as np\n",
    "import urllib.request\n",
    "import matplotlib.pyplot as plt\n",
    "\n",
    "# print a message to show import was successful\n",
    "print('Import of packages successful')"
   ]
  },
  {
   "cell_type": "markdown",
   "metadata": {},
   "source": [
    "## Set the working directory"
   ]
  },
  {
   "cell_type": "code",
   "execution_count": 2,
   "metadata": {},
   "outputs": [
    {
     "data": {
      "text/plain": [
       "'C:\\\\Users\\\\zconner\\\\Desktop\\\\Gtech785'"
      ]
     },
     "execution_count": 2,
     "metadata": {},
     "output_type": "execute_result"
    }
   ],
   "source": [
    "# use 'os.chdir()' to set the current working directory\n",
    "os.chdir('C:\\\\Users\\zconner\\Desktop\\Gtech785')\n",
    "\n",
    "# use 'os.getcwd' to show the current working directory\n",
    "os.getcwd()\n"
   ]
  },
  {
   "cell_type": "markdown",
   "metadata": {},
   "source": [
    "## Download CSV files"
   ]
  },
  {
   "cell_type": "markdown",
   "metadata": {},
   "source": [
    "Due to the firewall on the current computer I am unable to download the files using the python script. In order to bypass this I had to manually download the CSV files. However I would've used the following functions:"
   ]
  },
  {
   "cell_type": "code",
   "execution_count": null,
   "metadata": {},
   "outputs": [],
   "source": [
    "urllib.request.urlretrieve(\n",
    "    url ='http://www.geography.hunter.cuny.edu/~wenge/AnnualTemperature.csv',                  \n",
    "    filename = \"AnnualTemp.csv\"\n",
    ")\n",
    "\n",
    "urllib.request.urlretrieve(\n",
    "    url ='http://www.geography.hunter.cuny.edu/~wenge/AnnualPrecipitation.csv',     \n",
    "    filename = \"AnnualPrecip.csv\"\n",
    ")"
   ]
  },
  {
   "cell_type": "markdown",
   "metadata": {},
   "source": [
    "## Import in Numpy Arrays"
   ]
  },
  {
   "cell_type": "code",
   "execution_count": 69,
   "metadata": {},
   "outputs": [
    {
     "name": "stdout",
     "output_type": "stream",
     "text": [
      "[[1869.    51.4]\n",
      " [1870.    53.6]\n",
      " [1871.    51.1]\n",
      " [1872.    51. ]\n",
      " [1873.    51. ]\n",
      " [1874.    51.3]\n",
      " [1875.    49.4]\n",
      " [1876.    51.9]\n",
      " [1877.    52.8]\n",
      " [1878.    53.6]\n",
      " [1879.    52.3]\n",
      " [1880.    53.2]\n",
      " [1881.    52.4]\n",
      " [1882.    52. ]\n",
      " [1883.    50.5]\n",
      " [1884.    52.4]\n",
      " [1885.    51.1]\n",
      " [1886.    51. ]\n",
      " [1887.    50.9]\n",
      " [1888.    49.3]\n",
      " [1889.    52.7]\n",
      " [1890.    52.7]\n",
      " [1891.    53.8]\n",
      " [1892.    51.9]\n",
      " [1893.    50.4]\n",
      " [1894.    52.8]\n",
      " [1895.    52.7]\n",
      " [1896.    53.5]\n",
      " [1897.    53.4]\n",
      " [1898.    54.6]\n",
      " [1899.    53.6]\n",
      " [1900.    53.8]\n",
      " [1901.    52.1]\n",
      " [1902.    52.9]\n",
      " [1903.    52.7]\n",
      " [1904.    50.7]\n",
      " [1905.    53.3]\n",
      " [1906.    54.7]\n",
      " [1907.    52.5]\n",
      " [1908.    55. ]\n",
      " [1909.    53.4]\n",
      " [1910.    53.2]\n",
      " [1911.    53.4]\n",
      " [1912.    52.7]\n",
      " [1913.    55. ]\n",
      " [1914.    52. ]\n",
      " [1915.    53.5]\n",
      " [1916.    52.2]\n",
      " [1917.    50.7]\n",
      " [1918.    53.2]\n",
      " [1919.    53.8]\n",
      " [1920.    52.3]\n",
      " [1921.    54.9]\n",
      " [1922.    53.5]\n",
      " [1923.    52.9]\n",
      " [1924.    51.9]\n",
      " [1925.    53.4]\n",
      " [1926.    51.2]\n",
      " [1927.    53.4]\n",
      " [1928.    53.6]\n",
      " [1929.    54.1]\n",
      " [1930.    54.5]\n",
      " [1931.    55.8]\n",
      " [1932.    55.2]\n",
      " [1933.    54.2]\n",
      " [1934.    53. ]\n",
      " [1935.    53.1]\n",
      " [1936.    53.4]\n",
      " [1937.    54.5]\n",
      " [1938.    55.2]\n",
      " [1939.    54.7]\n",
      " [1940.    51.9]\n",
      " [1941.    54.9]\n",
      " [1942.    54.1]\n",
      " [1943.    53.7]\n",
      " [1944.    54.6]\n",
      " [1945.    54.1]\n",
      " [1946.    55.3]\n",
      " [1947.    53.8]\n",
      " [1948.    54.1]\n",
      " [1949.    56.9]\n",
      " [1950.    53.6]\n",
      " [1951.    55. ]\n",
      " [1952.    55.8]\n",
      " [1953.    57. ]\n",
      " [1954.    54.9]\n",
      " [1955.    54.7]\n",
      " [1956.    53.5]\n",
      " [1957.    55.4]\n",
      " [1958.    52.5]\n",
      " [1959.    55.4]\n",
      " [1960.    54. ]\n",
      " [1961.    55.1]\n",
      " [1962.    53.4]\n",
      " [1963.    53.6]\n",
      " [1964.    54.6]\n",
      " [1965.    54.2]\n",
      " [1966.    55.1]\n",
      " [1967.    53. ]\n",
      " [1968.    54.1]\n",
      " [1969.    54.8]\n",
      " [1970.    54.3]\n",
      " [1971.    55.2]\n",
      " [1972.    53.9]\n",
      " [1973.    56.1]\n",
      " [1974.    54.7]\n",
      " [1975.    54.9]\n",
      " [1976.    53.4]\n",
      " [1977.    54.3]\n",
      " [1978.    53. ]\n",
      " [1979.    55.7]\n",
      " [1980.    55. ]\n",
      " [1981.    55.2]\n",
      " [1982.    54.9]\n",
      " [1983.    56. ]\n",
      " [1984.    55.5]\n",
      " [1985.    55.5]\n",
      " [1986.    55.3]\n",
      " [1987.    55.1]\n",
      " [1988.    54.8]\n",
      " [1989.    54. ]\n",
      " [1990.    57.2]\n",
      " [1991.    57.2]\n",
      " [1992.    53.9]\n",
      " [1993.    55.5]\n",
      " [1994.    55.2]\n",
      " [1995.    55.3]\n",
      " [1996.    53.7]\n",
      " [1997.    54.3]\n",
      " [1998.    57.2]\n",
      " [1999.    56.5]\n",
      " [2000.    53.9]\n",
      " [2001.    56.3]\n",
      " [2002.    56.4]\n",
      " [2003.    53.4]\n",
      " [2004.    54.5]\n",
      " [2005.    55.8]\n",
      " [2006.    56.8]\n",
      " [2007.    55. ]\n",
      " [2008.    55.3]\n",
      " [2009.    54. ]\n",
      " [2010.    56.7]\n",
      " [2011.    56.4]\n",
      " [2012.    57.3]\n",
      " [2013.    55.3]\n",
      " [2014.    54.4]\n",
      " [2015.    56.7]\n",
      " [2016.    57.2]\n",
      " [2017.    56.3]]\n",
      "[[1869.     45.25]\n",
      " [1870.     39.25]\n",
      " [1871.     51.26]\n",
      " [1872.     42.49]\n",
      " [1873.     47.99]\n",
      " [1874.     45.83]\n",
      " [1875.     40.9 ]\n",
      " [1876.     41.77]\n",
      " [1877.     40.17]\n",
      " [1878.     48.66]\n",
      " [1879.     39.01]\n",
      " [1880.     36.66]\n",
      " [1881.     36.26]\n",
      " [1882.     45.27]\n",
      " [1883.     35.77]\n",
      " [1884.     52.25]\n",
      " [1885.     35.37]\n",
      " [1886.     39.38]\n",
      " [1887.     43.99]\n",
      " [1888.     53.32]\n",
      " [1889.     57.16]\n",
      " [1890.     45.63]\n",
      " [1891.     39.55]\n",
      " [1892.     35.6 ]\n",
      " [1893.     48.26]\n",
      " [1894.     41.01]\n",
      " [1895.     35.37]\n",
      " [1896.     41.96]\n",
      " [1897.     44.55]\n",
      " [1898.     47.9 ]\n",
      " [1899.     38.57]\n",
      " [1900.     41.19]\n",
      " [1901.     48.69]\n",
      " [1902.     52.77]\n",
      " [1903.     58.32]\n",
      " [1904.     41.64]\n",
      " [1905.     37.44]\n",
      " [1906.     40.18]\n",
      " [1907.     45.48]\n",
      " [1908.     41.05]\n",
      " [1909.     41.67]\n",
      " [1910.     33.72]\n",
      " [1911.     48.83]\n",
      " [1912.     45.4 ]\n",
      " [1913.     58.  ]\n",
      " [1914.     40.17]\n",
      " [1915.     45.73]\n",
      " [1916.     37.9 ]\n",
      " [1917.     41.04]\n",
      " [1918.     38.27]\n",
      " [1919.     53.29]\n",
      " [1920.     53.2 ]\n",
      " [1921.     37.76]\n",
      " [1922.     44.66]\n",
      " [1923.     40.57]\n",
      " [1924.     41.72]\n",
      " [1925.     41.43]\n",
      " [1926.     47.83]\n",
      " [1927.     56.06]\n",
      " [1928.     45.62]\n",
      " [1929.     40.38]\n",
      " [1930.     38.95]\n",
      " [1931.     36.07]\n",
      " [1932.     43.93]\n",
      " [1933.     53.53]\n",
      " [1934.     49.84]\n",
      " [1935.     33.85]\n",
      " [1936.     49.83]\n",
      " [1937.     52.97]\n",
      " [1938.     48.49]\n",
      " [1939.     38.55]\n",
      " [1940.     45.07]\n",
      " [1941.     39.04]\n",
      " [1942.     48.51]\n",
      " [1943.     36.74]\n",
      " [1944.     45.01]\n",
      " [1945.     44.98]\n",
      " [1946.     38.36]\n",
      " [1947.     40.79]\n",
      " [1948.     46.87]\n",
      " [1949.     36.24]\n",
      " [1950.     36.89]\n",
      " [1951.     44.4 ]\n",
      " [1952.     41.51]\n",
      " [1953.     45.2 ]\n",
      " [1954.     35.58]\n",
      " [1955.     39.9 ]\n",
      " [1956.     36.25]\n",
      " [1957.     36.49]\n",
      " [1958.     40.94]\n",
      " [1959.     38.77]\n",
      " [1960.     46.39]\n",
      " [1961.     39.32]\n",
      " [1962.     37.15]\n",
      " [1963.     34.28]\n",
      " [1964.     32.99]\n",
      " [1965.     26.09]\n",
      " [1966.     39.9 ]\n",
      " [1967.     49.12]\n",
      " [1968.     43.57]\n",
      " [1969.     48.54]\n",
      " [1970.     35.29]\n",
      " [1971.     56.77]\n",
      " [1972.     67.03]\n",
      " [1973.     57.23]\n",
      " [1974.     47.69]\n",
      " [1975.     61.21]\n",
      " [1976.     41.28]\n",
      " [1977.     54.73]\n",
      " [1978.     49.81]\n",
      " [1979.     52.13]\n",
      " [1980.     44.55]\n",
      " [1981.     38.11]\n",
      " [1982.     41.4 ]\n",
      " [1983.     80.56]\n",
      " [1984.     57.03]\n",
      " [1985.     38.82]\n",
      " [1986.     42.95]\n",
      " [1987.     46.39]\n",
      " [1988.     44.67]\n",
      " [1989.     65.11]\n",
      " [1990.     60.92]\n",
      " [1991.     45.18]\n",
      " [1992.     43.35]\n",
      " [1993.     44.28]\n",
      " [1994.     47.39]\n",
      " [1995.     40.42]\n",
      " [1996.     56.19]\n",
      " [1997.     43.93]\n",
      " [1998.     48.69]\n",
      " [1999.     42.5 ]\n",
      " [2000.     45.42]\n",
      " [2001.     35.92]\n",
      " [2002.     45.21]\n",
      " [2003.     58.56]\n",
      " [2004.     51.97]\n",
      " [2005.     55.97]\n",
      " [2006.     59.89]\n",
      " [2007.     61.67]\n",
      " [2008.     53.61]\n",
      " [2009.     53.62]\n",
      " [2010.     49.37]\n",
      " [2011.     72.81]\n",
      " [2012.     38.51]\n",
      " [2013.     46.32]\n",
      " [2014.     53.79]\n",
      " [2015.     40.97]\n",
      " [2016.     42.17]\n",
      " [2017.     45.04]]\n"
     ]
    }
   ],
   "source": [
    "# import the annual temp data from \"AnnualTemp.csv\" as a numpy array\n",
    "annualtemp = np.loadtxt('AnnualTemperature.csv', delimiter = ',')\n",
    "\n",
    "# Print the values from the array\n",
    "print(annualtemp)\n",
    "\n",
    "# import the annual precipitation data from \"AnnualPrecip.csv\" as a numpy array\n",
    "annualprecip = np.loadtxt('AnnualPrecipitation.csv', delimiter = ',')\n",
    "\n",
    "# Print the values from the array\n",
    "print(annualprecip)"
   ]
  },
  {
   "cell_type": "markdown",
   "metadata": {},
   "source": [
    "## Print Data from Numpy Arrays"
   ]
  },
  {
   "cell_type": "code",
   "execution_count": 70,
   "metadata": {},
   "outputs": [
    {
     "name": "stdout",
     "output_type": "stream",
     "text": [
      "(149, 2)\n"
     ]
    }
   ],
   "source": [
    "# print the dimensions of 'annualtemp' using '.shape'\n",
    "print(annualtemp.shape)"
   ]
  },
  {
   "cell_type": "code",
   "execution_count": 71,
   "metadata": {},
   "outputs": [
    {
     "name": "stdout",
     "output_type": "stream",
     "text": [
      "(149, 2)\n"
     ]
    }
   ],
   "source": [
    "# print the dimensions of 'annualprecip' using '.shape'\n",
    "print(annualprecip.shape)"
   ]
  },
  {
   "cell_type": "code",
   "execution_count": 72,
   "metadata": {},
   "outputs": [
    {
     "name": "stdout",
     "output_type": "stream",
     "text": [
      "[[1869.    51.4]\n",
      " [1870.    53.6]\n",
      " [1871.    51.1]\n",
      " [1872.    51. ]\n",
      " [1873.    51. ]\n",
      " [1874.    51.3]\n",
      " [1875.    49.4]\n",
      " [1876.    51.9]\n",
      " [1877.    52.8]\n",
      " [1878.    53.6]]\n",
      "[[1869.     45.25]\n",
      " [1870.     39.25]\n",
      " [1871.     51.26]\n",
      " [1872.     42.49]\n",
      " [1873.     47.99]\n",
      " [1874.     45.83]\n",
      " [1875.     40.9 ]\n",
      " [1876.     41.77]\n",
      " [1877.     40.17]\n",
      " [1878.     48.66]]\n"
     ]
    }
   ],
   "source": [
    "# print out the first 10 rows and 2 columns of the arrays\n",
    "print(annualtemp [0:10, :])\n",
    "\n",
    "print(annualprecip [0:10, :])\n"
   ]
  },
  {
   "cell_type": "code",
   "execution_count": 73,
   "metadata": {},
   "outputs": [
    {
     "name": "stdout",
     "output_type": "stream",
     "text": [
      "[[2008.    55.3]\n",
      " [2009.    54. ]\n",
      " [2010.    56.7]\n",
      " [2011.    56.4]\n",
      " [2012.    57.3]\n",
      " [2013.    55.3]\n",
      " [2014.    54.4]\n",
      " [2015.    56.7]\n",
      " [2016.    57.2]\n",
      " [2017.    56.3]]\n",
      "[[2008.     53.61]\n",
      " [2009.     53.62]\n",
      " [2010.     49.37]\n",
      " [2011.     72.81]\n",
      " [2012.     38.51]\n",
      " [2013.     46.32]\n",
      " [2014.     53.79]\n",
      " [2015.     40.97]\n",
      " [2016.     42.17]\n",
      " [2017.     45.04]]\n"
     ]
    }
   ],
   "source": [
    "# print out the last 10 rows and 2 columns of the arrays\n",
    "print(annualtemp [139:149, : ])\n",
    "\n",
    "print(annualprecip [139:149, : ])"
   ]
  },
  {
   "cell_type": "markdown",
   "metadata": {},
   "source": [
    "## Run calculations on Numpy Arrays"
   ]
  },
  {
   "cell_type": "code",
   "execution_count": 74,
   "metadata": {},
   "outputs": [],
   "source": [
    "# Convert the variable values in 'annualtemp' from Fahrenheit to Celsius using the following equation\n",
    "# Celsius = (Fahrenheit - 32) / 1.8\n",
    "annualtemp[: , 1] = ((annualtemp[: , 1] -32)/1.8)"
   ]
  },
  {
   "cell_type": "code",
   "execution_count": 75,
   "metadata": {},
   "outputs": [
    {
     "name": "stdout",
     "output_type": "stream",
     "text": [
      "[[1869.           10.77777778]\n",
      " [1870.           12.        ]\n",
      " [1871.           10.61111111]\n",
      " [1872.           10.55555556]\n",
      " [1873.           10.55555556]\n",
      " [1874.           10.72222222]\n",
      " [1875.            9.66666667]\n",
      " [1876.           11.05555556]\n",
      " [1877.           11.55555556]\n",
      " [1878.           12.        ]]\n",
      "[[2008.           12.94444444]\n",
      " [2009.           12.22222222]\n",
      " [2010.           13.72222222]\n",
      " [2011.           13.55555556]\n",
      " [2012.           14.05555556]\n",
      " [2013.           12.94444444]\n",
      " [2014.           12.44444444]\n",
      " [2015.           13.72222222]\n",
      " [2016.           14.        ]\n",
      " [2017.           13.5       ]]\n"
     ]
    }
   ],
   "source": [
    "# print out the first and last 10 rows and 2 columns to ensure the conversion was successful\n",
    "print(annualtemp [0:10, :])\n",
    "print(annualtemp [139:149, : ])"
   ]
  },
  {
   "cell_type": "code",
   "execution_count": 76,
   "metadata": {},
   "outputs": [],
   "source": [
    "# Convert the variable values in 'annualprecip' from in to mm using the following equation\n",
    "# Precipitation (mm) = Preicipitation (inches) * 25.4\n",
    "annualprecip[: , 1] = (annualprecip[: , 1] * 25.4)"
   ]
  },
  {
   "cell_type": "code",
   "execution_count": 77,
   "metadata": {},
   "outputs": [
    {
     "name": "stdout",
     "output_type": "stream",
     "text": [
      "[[1869.    1149.35 ]\n",
      " [1870.     996.95 ]\n",
      " [1871.    1302.004]\n",
      " [1872.    1079.246]\n",
      " [1873.    1218.946]\n",
      " [1874.    1164.082]\n",
      " [1875.    1038.86 ]\n",
      " [1876.    1060.958]\n",
      " [1877.    1020.318]\n",
      " [1878.    1235.964]]\n",
      "[[2008.    1361.694]\n",
      " [2009.    1361.948]\n",
      " [2010.    1253.998]\n",
      " [2011.    1849.374]\n",
      " [2012.     978.154]\n",
      " [2013.    1176.528]\n",
      " [2014.    1366.266]\n",
      " [2015.    1040.638]\n",
      " [2016.    1071.118]\n",
      " [2017.    1144.016]]\n"
     ]
    }
   ],
   "source": [
    "# print out the first and last 10 rows and 2 columns to ensure the conversion was successful\n",
    "print(annualprecip [0:10, :])\n",
    "print(annualprecip [139:149, : ])"
   ]
  },
  {
   "cell_type": "markdown",
   "metadata": {},
   "source": [
    "## Calculate Summary Statistics"
   ]
  },
  {
   "cell_type": "markdown",
   "metadata": {},
   "source": [
    "#### Mean"
   ]
  },
  {
   "cell_type": "code",
   "execution_count": 19,
   "metadata": {},
   "outputs": [
    {
     "name": "stdout",
     "output_type": "stream",
     "text": [
      "[1943.           12.19052946]\n"
     ]
    }
   ],
   "source": [
    "# calculate the mean of 'annualtemp'\n",
    "annualtemp = np.mean(annualtemp, axis = 0)\n",
    "print(annualtemp)"
   ]
  },
  {
   "cell_type": "code",
   "execution_count": 20,
   "metadata": {},
   "outputs": [
    {
     "name": "stdout",
     "output_type": "stream",
     "text": [
      "[1943.        1149.6057047]\n"
     ]
    }
   ],
   "source": [
    "# calculate the mean of 'annualprecip'\n",
    "annualprecip = np.mean(annualprecip, axis = 0)\n",
    "print(annualprecip)"
   ]
  },
  {
   "cell_type": "markdown",
   "metadata": {},
   "source": [
    "#### Minimum "
   ]
  },
  {
   "cell_type": "code",
   "execution_count": 34,
   "metadata": {},
   "outputs": [
    {
     "name": "stdout",
     "output_type": "stream",
     "text": [
      "[1869.            9.61111111]\n"
     ]
    }
   ],
   "source": [
    "# calculate the minimum of 'annualtemp'\n",
    "annualtemp = np.amin(annualtemp, axis = 0)\n",
    "print(annualtemp)"
   ]
  },
  {
   "cell_type": "code",
   "execution_count": 35,
   "metadata": {},
   "outputs": [
    {
     "name": "stdout",
     "output_type": "stream",
     "text": [
      "[1869.     662.686]\n"
     ]
    }
   ],
   "source": [
    "# calculate the minimum of 'annualprecip'\n",
    "annualprecip = np.amin(annualprecip, axis = 0)\n",
    "print(annualprecip)"
   ]
  },
  {
   "cell_type": "markdown",
   "metadata": {},
   "source": [
    "#### Maximum"
   ]
  },
  {
   "cell_type": "code",
   "execution_count": 45,
   "metadata": {},
   "outputs": [
    {
     "name": "stdout",
     "output_type": "stream",
     "text": [
      "[2017.           14.05555556]\n"
     ]
    }
   ],
   "source": [
    "# calculate the maximum of 'annualtemp'\n",
    "annualtemp = np.amax(annualtemp, axis = 0)\n",
    "print(annualtemp)"
   ]
  },
  {
   "cell_type": "code",
   "execution_count": 46,
   "metadata": {},
   "outputs": [
    {
     "name": "stdout",
     "output_type": "stream",
     "text": [
      "[2017.    2046.224]\n"
     ]
    }
   ],
   "source": [
    "# calculate the maximum of 'annualprecip'\n",
    "annualprecip = np.amax(annualprecip, axis = 0)\n",
    "print(annualprecip)"
   ]
  },
  {
   "cell_type": "markdown",
   "metadata": {},
   "source": [
    "#### Standard Deviation"
   ]
  },
  {
   "cell_type": "code",
   "execution_count": 67,
   "metadata": {},
   "outputs": [
    {
     "name": "stdout",
     "output_type": "stream",
     "text": [
      "[43.01162634  0.93737219]\n"
     ]
    }
   ],
   "source": [
    "# calculate the standard deviation of 'annualtemp'\n",
    "annualtemp = np.std(annualtemp, axis = 0)\n",
    "print(annualtemp)"
   ]
  },
  {
   "cell_type": "code",
   "execution_count": 68,
   "metadata": {},
   "outputs": [
    {
     "name": "stdout",
     "output_type": "stream",
     "text": [
      "[ 43.01162634 207.14492627]\n"
     ]
    }
   ],
   "source": [
    "# calculate the standard deviation of 'annualprecip'\n",
    "annualprecip = np.std(annualprecip, axis = 0)\n",
    "print(annualprecip)"
   ]
  },
  {
   "cell_type": "markdown",
   "metadata": {},
   "source": [
    "## Plot the time series of the annual temperature and precipitation in two subplots"
   ]
  },
  {
   "cell_type": "code",
   "execution_count": 80,
   "metadata": {},
   "outputs": [
    {
     "data": {
      "image/png": "[encoded data removed]",
      "text/plain": [
       "<Figure size 1080x1080 with 2 Axes>"
      ]
     },
     "metadata": {
      "needs_background": "light"
     },
     "output_type": "display_data"
    }
   ],
   "source": [
    "# set the plot size \n",
    "plt.rcParams[\"figure.figsize\"] = (15, 15)\n",
    "\n",
    "# set plot title size \n",
    "plt.rcParams['axes.titlesize'] = 12\n",
    "\n",
    "# create the plot space upon which to plot the data\n",
    "fig, (ax1, ax2) = plt.subplots(1, 2)\n",
    "\n",
    "# set plot title 'ax1'\n",
    "ax1.set(title=\"Average Annual Temperature in Central Park, New York 1869-2017\")\n",
    "\n",
    "# set plot title 'ax2'\n",
    "ax2.set(title=\"Average Annual Precipitation in Central Park, New York 1869-2017\")\n",
    "\n",
    "# add the x-axis and the y-axis to the first plot\n",
    "ax1.plot(annualtemp[:, 0], annualtemp[:, 1], color = 'aqua')\n",
    "\n",
    "# add labels to the axes of first plot\n",
    "ax1.set(xlabel=\"Year\", ylabel=\"Temperature (Celsius)\");\n",
    "\n",
    "# add x-axis and y-axis to second plot\n",
    "ax2.plot(annualprecip[:, 0], annualprecip[:, 1], color = 'sandybrown')\n",
    "\n",
    "# add labels to the axes of the second plot\n",
    "ax2.set(xlabel=\"Year\", ylabel=\"Precipitation (mm)\");"
   ]
  },
  {
   "cell_type": "code",
   "execution_count": null,
   "metadata": {},
   "outputs": [],
   "source": []
  }
 ],
 "metadata": {
  "kernelspec": {
   "display_name": "Python 3",
   "language": "python",
   "name": "python3"
  },
  "language_info": {
   "codemirror_mode": {
    "name": "ipython",
    "version": 3
   },
   "file_extension": ".py",
   "mimetype": "text/x-python",
   "name": "python",
   "nbconvert_exporter": "python",
   "pygments_lexer": "ipython3",
   "version": "3.7.1"
  }
 },
 "nbformat": 4,
 "nbformat_minor": 2
}
